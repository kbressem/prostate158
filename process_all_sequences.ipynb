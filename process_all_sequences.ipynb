{
 "cells": [
  {
   "cell_type": "code",
   "execution_count": 8,
   "metadata": {},
   "outputs": [],
   "source": [
    "from prostate158.transforms import get_base_transforms\n",
    "from prostate158.utils import load_config\n",
    "from prostate158.model import get_model\n",
    "from monai.transforms import Compose\n",
    "from monai.inferers import sliding_window_inference\n",
    "import torch\n",
    "from ipywidgets import interact\n",
    "from matplotlib import pyplot as plt"
   ]
  },
  {
   "cell_type": "code",
   "execution_count": 9,
   "metadata": {},
   "outputs": [],
   "source": [
    "device = torch.device('cuda' if torch.cuda.is_available() else 'cpu')"
   ]
  },
  {
   "cell_type": "code",
   "execution_count": 10,
   "metadata": {},
   "outputs": [],
   "source": [
    "config = load_config('tests/config/config_all_sequences.yaml') # change to 'tumor.yaml' for tumor segmentation\n",
    "transforms = Compose(get_base_transforms(config=config))"
   ]
  },
  {
   "cell_type": "code",
   "execution_count": 11,
   "metadata": {},
   "outputs": [],
   "source": [
    "model_all_sequences = get_model(config)\n",
    "model_all_sequences.load_state_dict(torch.load('models_saved/anatomy_all_sequences.pt'), strict=False)\n",
    "model_all_sequences.to(device=device)\n",
    "model_all_sequences.eval();"
   ]
  },
  {
   "cell_type": "code",
   "execution_count": 12,
   "metadata": {},
   "outputs": [],
   "source": [
    "images_all_sequences = transforms({'t2': './tests/input/027/t2.nii.gz', 't2_anatomy_reader1': './tests/input/027/t2_anatomy_reader1.nii.gz', 'adc': './tests/input/027/adc.nii.gz', 'dwi': './tests/input/027/dwi.nii.gz'})\n",
    "image_t2w_2 = images_all_sequences['t2'].to(device=device).unsqueeze(0)\n",
    "image_adc = images_all_sequences['adc'].to(device=device).unsqueeze(0)\n",
    "image_dwi = images_all_sequences['dwi'].to(device=device).unsqueeze(0)\n",
    "images_all_sequences_input = torch.cat((image_t2w_2, image_adc, image_dwi), dim=1)  \n",
    "input_all_sequences = torch.cat([images_all_sequences_input])"
   ]
  },
  {
   "cell_type": "code",
   "execution_count": 13,
   "metadata": {},
   "outputs": [],
   "source": [
    "with torch.no_grad():\n",
    "    roi_size = (160, 160, 160)\n",
    "    sw_batch_size = 4\n",
    "    val_outputs_1_sequence = sliding_window_inference(input_all_sequences, roi_size, sw_batch_size, model_all_sequences)"
   ]
  },
  {
   "cell_type": "code",
   "execution_count": 14,
   "metadata": {},
   "outputs": [
    {
     "data": {
      "application/vnd.jupyter.widget-view+json": {
       "model_id": "ec421ce1a41040e187586879e51362bb",
       "version_major": 2,
       "version_minor": 0
      },
      "text/plain": [
       "interactive(children=(IntSlider(value=69, description='index', max=138), Output()), _dom_classes=('widget-inte…"
      ]
     },
     "metadata": {},
     "output_type": "display_data"
    },
    {
     "data": {
      "text/plain": [
       "<function __main__.plot(index)>"
      ]
     },
     "execution_count": 14,
     "metadata": {},
     "output_type": "execute_result"
    }
   ],
   "source": [
    "def plot(index):\n",
    "    plt.figure(\"check\", (18, 12))\n",
    "    plt.subplot(3, 3, 1)\n",
    "    plt.title(f\"image t2w\")\n",
    "    plt.imshow(images_all_sequences_input[0, 0, :, :, index].cpu())\n",
    "    plt.subplot(3, 3, 2)\n",
    "    plt.title(f\"image adc\")\n",
    "    plt.imshow(images_all_sequences_input[0, 1, :, :, index].cpu())\n",
    "    plt.subplot(3, 3, 3)\n",
    "    plt.title(f\"image dwi\")\n",
    "    plt.imshow(images_all_sequences_input[0, 2, :, :, index].cpu())\n",
    "    plt.subplot(3, 3, 4)\n",
    "    plt.title(f\"label\")\n",
    "    plt.imshow(images_all_sequences[\"t2_anatomy_reader1\"][0, :, :, index])\n",
    "    plt.subplot(3, 3, 5)\n",
    "    plt.title(f\"output\")\n",
    "    plt.imshow(torch.argmax(val_outputs_1_sequence, dim=1).detach().cpu()[0, :, :, index])\n",
    "    plt.show()\n",
    "\n",
    "shape = images_all_sequences[\"t2_anatomy_reader1\"].shape\n",
    "interact(plot, index=(0, shape[-1] - 1, 1))"
   ]
  }
 ],
 "metadata": {
  "kernelspec": {
   "display_name": ".venv",
   "language": "python",
   "name": "python3"
  },
  "language_info": {
   "codemirror_mode": {
    "name": "ipython",
    "version": 3
   },
   "file_extension": ".py",
   "mimetype": "text/x-python",
   "name": "python",
   "nbconvert_exporter": "python",
   "pygments_lexer": "ipython3",
   "version": "3.10.12"
  }
 },
 "nbformat": 4,
 "nbformat_minor": 2
}
