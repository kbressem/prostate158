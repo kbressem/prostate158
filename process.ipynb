{
 "cells": [
  {
   "cell_type": "code",
   "execution_count": 179,
   "metadata": {},
   "outputs": [],
   "source": [
    "from prostate158.transforms import get_base_transforms\n",
    "from prostate158.utils import load_config\n",
    "from prostate158.model import get_model\n",
    "from monai.transforms import Compose\n",
    "from monai.inferers import sliding_window_inference\n",
    "import torch\n",
    "from ipywidgets import interact\n",
    "from matplotlib import pyplot as plt"
   ]
  },
  {
   "cell_type": "code",
   "execution_count": 180,
   "metadata": {},
   "outputs": [],
   "source": [
    "device = torch.device('cuda' if torch.cuda.is_available() else 'cpu')\n",
    "config = load_config('tests/config/config.yaml') # change to 'tumor.yaml' for tumor segmentation\n",
    "transforms = Compose(get_base_transforms(config=config))"
   ]
  },
  {
   "cell_type": "code",
   "execution_count": 181,
   "metadata": {},
   "outputs": [],
   "source": [
    "model = get_model(config)\n",
    "model.load_state_dict(torch.load('models_copy/anatomy_3_1_sequence.pt'), strict=False)\n",
    "model.to(device=device)\n",
    "model.eval();"
   ]
  },
  {
   "cell_type": "code",
   "execution_count": 182,
   "metadata": {},
   "outputs": [],
   "source": [
    "images = transforms({'t2': './tests/input/027/t2.nii.gz', 't2_anatomy_reader1': './tests/input/027/t2_anatomy_reader1.nii.gz'})\n",
    "image = images['t2'].to(device=device).unsqueeze(0)\n",
    "input = torch.cat([image])"
   ]
  },
  {
   "cell_type": "code",
   "execution_count": 183,
   "metadata": {},
   "outputs": [],
   "source": [
    "with torch.no_grad():\n",
    "    roi_size = (160, 160, 160)\n",
    "    sw_batch_size = 4\n",
    "    val_outputs = sliding_window_inference(input, roi_size, sw_batch_size, model)"
   ]
  },
  {
   "cell_type": "code",
   "execution_count": 185,
   "metadata": {},
   "outputs": [
    {
     "data": {
      "application/vnd.jupyter.widget-view+json": {
       "model_id": "1959a327899d4e30a9e371edfd16281f",
       "version_major": 2,
       "version_minor": 0
      },
      "text/plain": [
       "interactive(children=(IntSlider(value=69, description='index', max=138), Output()), _dom_classes=('widget-inte…"
      ]
     },
     "metadata": {},
     "output_type": "display_data"
    }
   ],
   "source": [
    "def plot(index):\n",
    "    plt.figure(\"check\", (18, 6))\n",
    "    plt.subplot(1, 3, 1)\n",
    "    plt.title(f\"image\")\n",
    "    plt.imshow(image[0, 0, :, :, index].cpu())\n",
    "    plt.subplot(1, 3, 2)\n",
    "    plt.title(f\"label\")\n",
    "    plt.imshow(images[\"t2_anatomy_reader1\"][0, :, :, index])\n",
    "    plt.subplot(1, 3, 3)\n",
    "    plt.title(f\"output\")\n",
    "    plt.imshow(torch.argmax(val_outputs, dim=1).detach().cpu()[0, :, :, index])\n",
    "    plt.show()\n",
    "\n",
    "shape = images[\"t2_anatomy_reader1\"].shape\n",
    "interact(plot, index=(0, shape[-1] - 1, 1))"
   ]
  }
 ],
 "metadata": {
  "kernelspec": {
   "display_name": ".venv",
   "language": "python",
   "name": "python3"
  },
  "language_info": {
   "codemirror_mode": {
    "name": "ipython",
    "version": 3
   },
   "file_extension": ".py",
   "mimetype": "text/x-python",
   "name": "python",
   "nbconvert_exporter": "python",
   "pygments_lexer": "ipython3",
   "version": "3.10.12"
  }
 },
 "nbformat": 4,
 "nbformat_minor": 2
}
