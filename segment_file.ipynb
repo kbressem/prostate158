{
 "cells": [
  {
   "cell_type": "code",
   "execution_count": 1,
   "metadata": {},
   "outputs": [],
   "source": [
    "from prostate158.transforms import get_base_transforms\n",
    "from prostate158.utils import load_config\n",
    "from prostate158.model import get_model\n",
    "from monai.transforms import Compose, LoadImaged, EnsureChannelFirstd\n",
    "from monai.inferers import sliding_window_inference\n",
    "import torch\n",
    "import SimpleITK as sitk"
   ]
  },
  {
   "cell_type": "code",
   "execution_count": 2,
   "metadata": {},
   "outputs": [],
   "source": [
    "device = torch.device('cuda' if torch.cuda.is_available() else 'cpu')"
   ]
  },
  {
   "cell_type": "code",
   "execution_count": 3,
   "metadata": {},
   "outputs": [],
   "source": [
    "config = load_config('tests/config/config.yaml') # change to 'tumor.yaml' for tumor segmentation\n",
    "transforms = Compose(get_base_transforms(config=config))"
   ]
  },
  {
   "cell_type": "code",
   "execution_count": 4,
   "metadata": {},
   "outputs": [],
   "source": [
    "model = get_model(config)\n",
    "model.load_state_dict(torch.load('anatomy.pt'), strict=False)\n",
    "model.to(device=device)\n",
    "model.eval();"
   ]
  },
  {
   "cell_type": "code",
   "execution_count": 5,
   "metadata": {},
   "outputs": [],
   "source": [
    "images = transforms({'t2': './tests/input/picai/10000_1000000_t2w.mha', 't2_anatomy_reader1': './tests/input/picai/10000_1000000.nii.gz'})\n",
    "image = images['t2'].to(device=device).unsqueeze(0)\n",
    "input = torch.cat([image])"
   ]
  },
  {
   "cell_type": "code",
   "execution_count": 6,
   "metadata": {},
   "outputs": [],
   "source": [
    "with torch.no_grad():\n",
    "    roi_size = (128, 128, 128)\n",
    "    sw_batch_size = 4\n",
    "    val_outputs = sliding_window_inference(input, roi_size, sw_batch_size, model, overlap=0.5)"
   ]
  },
  {
   "cell_type": "code",
   "execution_count": 7,
   "metadata": {},
   "outputs": [
    {
     "name": "stdout",
     "output_type": "stream",
     "text": [
      "torch.Size([1, 360, 360, 159])\n",
      "torch.Size([1, 360, 360, 199])\n",
      "metatensor(False)\n"
     ]
    }
   ],
   "source": [
    "print(images['t2_anatomy_reader1'].shape)\n",
    "print(images['t2'].shape)\n",
    "print(images['t2_anatomy_reader1'][:,:,10].any())"
   ]
  },
  {
   "cell_type": "code",
   "execution_count": 8,
   "metadata": {},
   "outputs": [
    {
     "data": {
      "application/vnd.jupyter.widget-view+json": {
       "model_id": "4b7093d8a9ed4ac38c0b575041ba2c7f",
       "version_major": 2,
       "version_minor": 0
      },
      "text/plain": [
       "interactive(children=(IntSlider(value=79, description='index', max=158), Output()), _dom_classes=('widget-inte…"
      ]
     },
     "metadata": {},
     "output_type": "display_data"
    },
    {
     "data": {
      "text/plain": [
       "<function __main__.plot(index)>"
      ]
     },
     "execution_count": 8,
     "metadata": {},
     "output_type": "execute_result"
    }
   ],
   "source": [
    "from matplotlib import pyplot as plt\n",
    "from ipywidgets import interact\n",
    "\n",
    "# swap 1s and 2s in label image\n",
    "temp_value = 999\n",
    "images[\"t2_anatomy_reader1\"][images[\"t2_anatomy_reader1\"] == 1] = temp_value\n",
    "images[\"t2_anatomy_reader1\"][images[\"t2_anatomy_reader1\"] == 2] = 1\n",
    "images[\"t2_anatomy_reader1\"][images[\"t2_anatomy_reader1\"] == temp_value] = 2\n",
    "\n",
    "def plot(index):\n",
    "    plt.figure(\"check\", figsize=(18, 6))\n",
    "    plt.subplot(1, 3, 1)\n",
    "    plt.title(f\"image\")\n",
    "    plt.imshow(image[0, 0, :, :, index].cpu())\n",
    "    plt.subplot(1, 3, 2)\n",
    "    plt.title(f\"label\")\n",
    "    plt.imshow(images[\"t2_anatomy_reader1\"][0, :, :, index])\n",
    "    plt.subplot(1, 3, 3)\n",
    "    plt.title(f\"output\")\n",
    "    plt.imshow(torch.argmax(val_outputs, dim=1).detach().cpu()[0, :, :, index])\n",
    "    plt.show()\n",
    "\n",
    "shape = images[\"t2_anatomy_reader1\"].shape\n",
    "interact(plot, index=(0, shape[-1] - 1, 1))"
   ]
  },
  {
   "cell_type": "code",
   "execution_count": 17,
   "metadata": {},
   "outputs": [],
   "source": [
    "output = torch.argmax(val_outputs, dim=1).detach().cpu()\n",
    "mask = output != 0\n",
    "mask_tz = output == 1\n",
    "mask_pz = output == 2"
   ]
  },
  {
   "cell_type": "code",
   "execution_count": 29,
   "metadata": {},
   "outputs": [
    {
     "name": "stdout",
     "output_type": "stream",
     "text": [
      "torch.Size([284786])\n",
      "metatensor([[[[0., 0., 0.,  ..., 0., 0., 0.],\n",
      "          [0., 0., 0.,  ..., 0., 0., 0.],\n",
      "          [0., 0., 0.,  ..., 0., 0., 0.],\n",
      "          ...,\n",
      "          [0., 0., 0.,  ..., 0., 0., 0.],\n",
      "          [0., 0., 0.,  ..., 0., 0., 0.],\n",
      "          [0., 0., 0.,  ..., 0., 0., 0.]],\n",
      "\n",
      "         [[0., 0., 0.,  ..., 0., 0., 0.],\n",
      "          [0., 0., 0.,  ..., 0., 0., 0.],\n",
      "          [0., 0., 0.,  ..., 0., 0., 0.],\n",
      "          ...,\n",
      "          [0., 0., 0.,  ..., 0., 0., 0.],\n",
      "          [0., 0., 0.,  ..., 0., 0., 0.],\n",
      "          [0., 0., 0.,  ..., 0., 0., 0.]],\n",
      "\n",
      "         [[0., 0., 0.,  ..., 0., 0., 0.],\n",
      "          [0., 0., 0.,  ..., 0., 0., 0.],\n",
      "          [0., 0., 0.,  ..., 0., 0., 0.],\n",
      "          ...,\n",
      "          [0., 0., 0.,  ..., 0., 0., 0.],\n",
      "          [0., 0., 0.,  ..., 0., 0., 0.],\n",
      "          [0., 0., 0.,  ..., 0., 0., 0.]],\n",
      "\n",
      "         ...,\n",
      "\n",
      "         [[0., 0., 0.,  ..., 0., 0., 0.],\n",
      "          [0., 0., 0.,  ..., 0., 0., 0.],\n",
      "          [0., 0., 0.,  ..., 0., 0., 0.],\n",
      "          ...,\n",
      "          [0., 0., 0.,  ..., 0., 0., 0.],\n",
      "          [0., 0., 0.,  ..., 0., 0., 0.],\n",
      "          [0., 0., 0.,  ..., 0., 0., 0.]],\n",
      "\n",
      "         [[0., 0., 0.,  ..., 0., 0., 0.],\n",
      "          [0., 0., 0.,  ..., 0., 0., 0.],\n",
      "          [0., 0., 0.,  ..., 0., 0., 0.],\n",
      "          ...,\n",
      "          [0., 0., 0.,  ..., 0., 0., 0.],\n",
      "          [0., 0., 0.,  ..., 0., 0., 0.],\n",
      "          [0., 0., 0.,  ..., 0., 0., 0.]],\n",
      "\n",
      "         [[0., 0., 0.,  ..., 0., 0., 0.],\n",
      "          [0., 0., 0.,  ..., 0., 0., 0.],\n",
      "          [0., 0., 0.,  ..., 0., 0., 0.],\n",
      "          ...,\n",
      "          [0., 0., 0.,  ..., 0., 0., 0.],\n",
      "          [0., 0., 0.,  ..., 0., 0., 0.],\n",
      "          [0., 0., 0.,  ..., 0., 0., 0.]]]])\n"
     ]
    }
   ],
   "source": [
    "masked_t2 = images['t2']\n",
    "regions_of_interest = torch.zeros_like(images['t2'])\n",
    "regions_of_interest[mask] = images['t2'][mask]\n",
    "print(masked_t2[mask].shape)\n",
    "print(regions_of_interest)"
   ]
  },
  {
   "cell_type": "code",
   "execution_count": 28,
   "metadata": {},
   "outputs": [
    {
     "data": {
      "application/vnd.jupyter.widget-view+json": {
       "model_id": "804cfdd08fa1437bb4fa5dc333c7ca3b",
       "version_major": 2,
       "version_minor": 0
      },
      "text/plain": [
       "interactive(children=(IntSlider(value=79, description='index', max=158), Output()), _dom_classes=('widget-inte…"
      ]
     },
     "metadata": {},
     "output_type": "display_data"
    },
    {
     "data": {
      "text/plain": [
       "<function __main__.plot(index)>"
      ]
     },
     "execution_count": 28,
     "metadata": {},
     "output_type": "execute_result"
    }
   ],
   "source": [
    "def plot(index):\n",
    "    plt.figure(\"check\", figsize=(12, 6))\n",
    "    plt.subplot(1, 2, 1)\n",
    "    plt.title(f\"image\")\n",
    "    plt.imshow(image[0, 0, :, :, index].cpu())\n",
    "    plt.subplot(1, 2, 2)\n",
    "    plt.title(f\"label\")\n",
    "    plt.imshow(regions_of_interest[0, :, :, index])\n",
    "    plt.show()\n",
    "\n",
    "shape = images[\"t2_anatomy_reader1\"].shape\n",
    "interact(plot, index=(0, shape[-1] - 1, 1))"
   ]
  }
 ],
 "metadata": {
  "kernelspec": {
   "display_name": ".venv",
   "language": "python",
   "name": "python3"
  },
  "language_info": {
   "codemirror_mode": {
    "name": "ipython",
    "version": 3
   },
   "file_extension": ".py",
   "mimetype": "text/x-python",
   "name": "python",
   "nbconvert_exporter": "python",
   "pygments_lexer": "ipython3",
   "version": "3.10.12"
  }
 },
 "nbformat": 4,
 "nbformat_minor": 2
}
